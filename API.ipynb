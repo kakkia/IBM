{
  "nbformat": 4,
  "nbformat_minor": 0,
  "metadata": {
    "colab": {
      "provenance": [],
      "authorship_tag": "ABX9TyMGzaggtEj2qDp885Sgfs7S"
    },
    "kernelspec": {
      "name": "python3",
      "display_name": "Python 3"
    },
    "language_info": {
      "name": "python"
    }
  },
  "cells": [
    {
      "cell_type": "code",
      "source": [
        "import requests\n",
        "import pandas as pd\n",
        "import csv"
      ],
      "metadata": {
        "id": "o21Bbm6VgsMi"
      },
      "execution_count": 56,
      "outputs": []
    },
    {
      "cell_type": "code",
      "source": [
        "# Requesting API Key from ExchangeRate-\n",
        "# https://apilayer.com/account\n",
        "\n",
        "url = \"https://api.apilayer.com/exchangerates_data/latest?base=EUR&apikey=O5ExZXwA8Z1UtD8RCwb4gx4TyUV6tpSy\" "
      ],
      "metadata": {
        "id": "Q0fVlV8SgsPr"
      },
      "execution_count": 2,
      "outputs": []
    },
    {
      "cell_type": "code",
      "source": [
        "response = requests.get(url)"
      ],
      "metadata": {
        "id": "lsYyXZo6gsSz"
      },
      "execution_count": 51,
      "outputs": []
    },
    {
      "cell_type": "code",
      "source": [
        "response.status_code"
      ],
      "metadata": {
        "colab": {
          "base_uri": "https://localhost:8080/"
        },
        "id": "UrdEgy_9gsVt",
        "outputId": "aaada109-cbcb-4f44-f2a9-41b6b58fc924"
      },
      "execution_count": 52,
      "outputs": [
        {
          "output_type": "execute_result",
          "data": {
            "text/plain": [
              "200"
            ]
          },
          "metadata": {},
          "execution_count": 52
        }
      ]
    },
    {
      "cell_type": "code",
      "source": [
        "type(response)"
      ],
      "metadata": {
        "colab": {
          "base_uri": "https://localhost:8080/"
        },
        "id": "uDnqQIt3vWPi",
        "outputId": "22b8ff57-530c-4584-e4d6-fa5783aead84"
      },
      "execution_count": 64,
      "outputs": [
        {
          "output_type": "execute_result",
          "data": {
            "text/plain": [
              "requests.models.Response"
            ]
          },
          "metadata": {},
          "execution_count": 64
        }
      ]
    },
    {
      "cell_type": "code",
      "source": [
        "response.text"
      ],
      "metadata": {
        "colab": {
          "base_uri": "https://localhost:8080/",
          "height": 143
        },
        "id": "9EfGxBdbtBL8",
        "outputId": "7990f125-a9cf-4bcd-cb85-d6ce15cac54e"
      },
      "execution_count": 54,
      "outputs": [
        {
          "output_type": "execute_result",
          "data": {
            "text/plain": [
              "'{\\n    \"success\": true,\\n    \"timestamp\": 1676642884,\\n    \"base\": \"EUR\",\\n    \"date\": \"2023-02-17\",\\n    \"rates\": {\\n        \"AED\": 3.910808,\\n        \"AFN\": 95.077352,\\n        \"ALL\": 115.695569,\\n        \"AMD\": 418.793567,\\n        \"ANG\": 1.919509,\\n        \"AOA\": 540.374881,\\n        \"ARS\": 205.69836,\\n        \"AUD\": 1.556641,\\n        \"AWG\": 1.916606,\\n        \"AZN\": 1.797449,\\n        \"BAM\": 1.9605,\\n        \"BBD\": 2.150472,\\n        \"BDT\": 112.686715,\\n        \"BGN\": 1.955894,\\n        \"BHD\": 0.40134,\\n        \"BIF\": 2212.046812,\\n        \"BMD\": 1.064781,\\n        \"BND\": 1.42758,\\n        \"BOB\": 7.359826,\\n        \"BRL\": 5.546659,\\n        \"BSD\": 1.065112,\\n        \"BTC\": 4.4738097e-05,\\n        \"BTN\": 88.194423,\\n        \"BWP\": 14.088426,\\n        \"BYN\": 2.688403,\\n        \"BYR\": 20869.710378,\\n        \"BZD\": 2.146863,\\n        \"CAD\": 1.436523,\\n        \"CDF\": 2179.60668,\\n        \"CHF\": 0.990037,\\n        \"CLF\": 0.030634,\\n        \"CLP\": 845.276562,\\n        \"CNY\": 7.323587,\\n        \"COP\": 5250.616823,\\n        \"CRC\": 595.644747,\\n        \"CUC\": 1.064781,\\n        \"CUP\": 28.2167,\\n        \"CVE\": 110.52566,\\n        \"CZK\": 23.726622,\\n        \"DJF\": 189.637234,\\n        \"DKK\": 7.445428,\\n        \"DOP\": 59.665713,\\n        \"DZD\": 145.915515,\\n        \"EGP\": 32.529912,\\n        \"ERN\": 15.971717,\\n        \"ETB\": 57.250618,\\n        \"EUR\": 1,\\n        \"FJD\": 2.358379,\\n        \"FKP\": 0.886052,\\n        \"GBP\": 0.888719,\\n        \"GEL\": 2.805708,\\n        \"GGP\": 0.886052,\\n        \"GHS\": 13.579826,\\n        \"GIP\": 0.886052,\\n        \"GMD\": 65.050473,\\n        \"GNF\": 9170.326971,\\n        \"GTQ\": 8.334177,\\n        \"GYD\": 224.729995,\\n        \"HKD\": 8.353171,\\n        \"HNL\": 26.253916,\\n        \"HRK\": 7.511812,\\n        \"HTG\": 159.62345,\\n        \"HUF\": 385.96716,\\n        \"IDR\": 16173.599631,\\n        \"ILS\": 3.783104,\\n        \"IMP\": 0.886052,\\n        \"INR\": 88.180436,\\n        \"IQD\": 1554.491458,\\n        \"IRR\": 44987.003066,\\n        \"ISK\": 154.105586,\\n        \"JEP\": 0.886052,\\n        \"JMD\": 164.381215,\\n        \"JOD\": 0.75536,\\n        \"JPY\": 143.306234,\\n        \"KES\": 134.045462,\\n        \"KGS\": 93.083179,\\n        \"KHR\": 4347.694278,\\n        \"KMF\": 490.8114,\\n        \"KPW\": 958.202347,\\n        \"KRW\": 1384.226396,\\n        \"KWD\": 0.326463,\\n        \"KYD\": 0.887493,\\n        \"KZT\": 477.856961,\\n        \"LAK\": 17953.710001,\\n        \"LBP\": 15987.053439,\\n        \"LKR\": 389.291146,\\n        \"LRD\": 167.49027,\\n        \"LSL\": 19.208419,\\n        \"LTL\": 3.144022,\\n        \"LVL\": 0.644075,\\n        \"LYD\": 5.112926,\\n        \"MAD\": 11.049358,\\n        \"MDL\": 19.944104,\\n        \"MGA\": 4582.096252,\\n        \"MKD\": 61.73915,\\n        \"MMK\": 2236.693143,\\n        \"MNT\": 3749.985643,\\n        \"MOP\": 8.605776,\\n        \"MRO\": 380.126684,\\n        \"MUR\": 49.033046,\\n        \"MVR\": 16.354628,\\n        \"MWK\": 1093.237252,\\n        \"MXN\": 19.740063,\\n        \"MYR\": 4.719117,\\n        \"MZN\": 67.189131,\\n        \"NAD\": 19.208751,\\n        \"NGN\": 490.332985,\\n        \"NIO\": 38.917782,\\n        \"NOK\": 10.995228,\\n        \"NPR\": 141.111117,\\n        \"NZD\": 1.712322,\\n        \"OMR\": 0.4099,\\n        \"PAB\": 1.065012,\\n        \"PEN\": 4.100771,\\n        \"PGK\": 3.8012,\\n        \"PHP\": 58.967534,\\n        \"PKR\": 279.852923,\\n        \"PLN\": 4.772756,\\n        \"PYG\": 7766.816983,\\n        \"QAR\": 3.876838,\\n        \"RON\": 4.914843,\\n        \"RSD\": 117.344184,\\n        \"RUB\": 79.173403,\\n        \"RWF\": 1157.439664,\\n        \"SAR\": 3.993837,\\n        \"SBD\": 8.801197,\\n        \"SCR\": 14.202882,\\n        \"SDG\": 623.428553,\\n        \"SEK\": 11.1842,\\n        \"SGD\": 1.425092,\\n        \"SHP\": 1.295572,\\n        \"SLE\": 21.236334,\\n        \"SLL\": 21029.427079,\\n        \"SOS\": 606.390099,\\n        \"SRD\": 35.118554,\\n        \"STD\": 22038.81985,\\n        \"SVC\": 9.318978,\\n        \"SYP\": 2675.253994,\\n        \"SZL\": 19.414286,\\n        \"THB\": 36.802565,\\n        \"TJS\": 11.199312,\\n        \"TMT\": 3.737382,\\n        \"TND\": 3.321973,\\n        \"TOP\": 2.492334,\\n        \"TRY\": 20.090299,\\n        \"TTD\": 7.227445,\\n        \"TWD\": 32.391498,\\n        \"TZS\": 2491.307843,\\n        \"UAH\": 39.137319,\\n        \"UGX\": 3908.818418,\\n        \"USD\": 1.064781,\\n        \"UYU\": 41.921472,\\n        \"UZS\": 12080.159416,\\n        \"VEF\": 2588345.950733,\\n        \"VES\": 25.734165,\\n        \"VND\": 25363.086796,\\n        \"VUV\": 125.741031,\\n        \"WST\": 2.873829,\\n        \"XAF\": 657.513832,\\n        \"XAG\": 0.049928,\\n        \"XAU\": 0.000582,\\n        \"XCD\": 2.877624,\\n        \"XDR\": 0.796787,\\n        \"XOF\": 657.507642,\\n        \"XPF\": 118.882942,\\n        \"YER\": 266.513237,\\n        \"ZAR\": 19.26451,\\n        \"ZMK\": 9584.305452,\\n        \"ZMW\": 20.689193,\\n        \"ZWL\": 342.859093\\n    }\\n}\\n'"
            ],
            "application/vnd.google.colaboratory.intrinsic+json": {
              "type": "string"
            }
          },
          "metadata": {},
          "execution_count": 54
        }
      ]
    },
    {
      "cell_type": "code",
      "source": [
        "r_json = response.json()\n",
        "print(r_json)"
      ],
      "metadata": {
        "colab": {
          "base_uri": "https://localhost:8080/"
        },
        "id": "zTUfezettMhw",
        "outputId": "2f62cb05-fe53-4a5f-a0c8-8830a0d172fb"
      },
      "execution_count": 55,
      "outputs": [
        {
          "output_type": "stream",
          "name": "stdout",
          "text": [
            "{'success': True, 'timestamp': 1676642884, 'base': 'EUR', 'date': '2023-02-17', 'rates': {'AED': 3.910808, 'AFN': 95.077352, 'ALL': 115.695569, 'AMD': 418.793567, 'ANG': 1.919509, 'AOA': 540.374881, 'ARS': 205.69836, 'AUD': 1.556641, 'AWG': 1.916606, 'AZN': 1.797449, 'BAM': 1.9605, 'BBD': 2.150472, 'BDT': 112.686715, 'BGN': 1.955894, 'BHD': 0.40134, 'BIF': 2212.046812, 'BMD': 1.064781, 'BND': 1.42758, 'BOB': 7.359826, 'BRL': 5.546659, 'BSD': 1.065112, 'BTC': 4.4738097e-05, 'BTN': 88.194423, 'BWP': 14.088426, 'BYN': 2.688403, 'BYR': 20869.710378, 'BZD': 2.146863, 'CAD': 1.436523, 'CDF': 2179.60668, 'CHF': 0.990037, 'CLF': 0.030634, 'CLP': 845.276562, 'CNY': 7.323587, 'COP': 5250.616823, 'CRC': 595.644747, 'CUC': 1.064781, 'CUP': 28.2167, 'CVE': 110.52566, 'CZK': 23.726622, 'DJF': 189.637234, 'DKK': 7.445428, 'DOP': 59.665713, 'DZD': 145.915515, 'EGP': 32.529912, 'ERN': 15.971717, 'ETB': 57.250618, 'EUR': 1, 'FJD': 2.358379, 'FKP': 0.886052, 'GBP': 0.888719, 'GEL': 2.805708, 'GGP': 0.886052, 'GHS': 13.579826, 'GIP': 0.886052, 'GMD': 65.050473, 'GNF': 9170.326971, 'GTQ': 8.334177, 'GYD': 224.729995, 'HKD': 8.353171, 'HNL': 26.253916, 'HRK': 7.511812, 'HTG': 159.62345, 'HUF': 385.96716, 'IDR': 16173.599631, 'ILS': 3.783104, 'IMP': 0.886052, 'INR': 88.180436, 'IQD': 1554.491458, 'IRR': 44987.003066, 'ISK': 154.105586, 'JEP': 0.886052, 'JMD': 164.381215, 'JOD': 0.75536, 'JPY': 143.306234, 'KES': 134.045462, 'KGS': 93.083179, 'KHR': 4347.694278, 'KMF': 490.8114, 'KPW': 958.202347, 'KRW': 1384.226396, 'KWD': 0.326463, 'KYD': 0.887493, 'KZT': 477.856961, 'LAK': 17953.710001, 'LBP': 15987.053439, 'LKR': 389.291146, 'LRD': 167.49027, 'LSL': 19.208419, 'LTL': 3.144022, 'LVL': 0.644075, 'LYD': 5.112926, 'MAD': 11.049358, 'MDL': 19.944104, 'MGA': 4582.096252, 'MKD': 61.73915, 'MMK': 2236.693143, 'MNT': 3749.985643, 'MOP': 8.605776, 'MRO': 380.126684, 'MUR': 49.033046, 'MVR': 16.354628, 'MWK': 1093.237252, 'MXN': 19.740063, 'MYR': 4.719117, 'MZN': 67.189131, 'NAD': 19.208751, 'NGN': 490.332985, 'NIO': 38.917782, 'NOK': 10.995228, 'NPR': 141.111117, 'NZD': 1.712322, 'OMR': 0.4099, 'PAB': 1.065012, 'PEN': 4.100771, 'PGK': 3.8012, 'PHP': 58.967534, 'PKR': 279.852923, 'PLN': 4.772756, 'PYG': 7766.816983, 'QAR': 3.876838, 'RON': 4.914843, 'RSD': 117.344184, 'RUB': 79.173403, 'RWF': 1157.439664, 'SAR': 3.993837, 'SBD': 8.801197, 'SCR': 14.202882, 'SDG': 623.428553, 'SEK': 11.1842, 'SGD': 1.425092, 'SHP': 1.295572, 'SLE': 21.236334, 'SLL': 21029.427079, 'SOS': 606.390099, 'SRD': 35.118554, 'STD': 22038.81985, 'SVC': 9.318978, 'SYP': 2675.253994, 'SZL': 19.414286, 'THB': 36.802565, 'TJS': 11.199312, 'TMT': 3.737382, 'TND': 3.321973, 'TOP': 2.492334, 'TRY': 20.090299, 'TTD': 7.227445, 'TWD': 32.391498, 'TZS': 2491.307843, 'UAH': 39.137319, 'UGX': 3908.818418, 'USD': 1.064781, 'UYU': 41.921472, 'UZS': 12080.159416, 'VEF': 2588345.950733, 'VES': 25.734165, 'VND': 25363.086796, 'VUV': 125.741031, 'WST': 2.873829, 'XAF': 657.513832, 'XAG': 0.049928, 'XAU': 0.000582, 'XCD': 2.877624, 'XDR': 0.796787, 'XOF': 657.507642, 'XPF': 118.882942, 'YER': 266.513237, 'ZAR': 19.26451, 'ZMK': 9584.305452, 'ZMW': 20.689193, 'ZWL': 342.859093}}\n"
          ]
        }
      ]
    },
    {
      "cell_type": "code",
      "source": [
        "type(r_json[\"rates\"])"
      ],
      "metadata": {
        "colab": {
          "base_uri": "https://localhost:8080/"
        },
        "id": "4F6ibksruZKP",
        "outputId": "c53195d5-83fa-4fdb-8791-1e84c3dc150c"
      },
      "execution_count": 66,
      "outputs": [
        {
          "output_type": "execute_result",
          "data": {
            "text/plain": [
              "dict"
            ]
          },
          "metadata": {},
          "execution_count": 66
        }
      ]
    },
    {
      "cell_type": "code",
      "source": [
        "dictionary = r_json[\"rates\"]\n",
        "dictionary.keys()"
      ],
      "metadata": {
        "colab": {
          "base_uri": "https://localhost:8080/"
        },
        "id": "IoWmkyAxvzZw",
        "outputId": "6ba7a5d9-50f0-4699-b710-b3fc72f49ae1"
      },
      "execution_count": 67,
      "outputs": [
        {
          "output_type": "execute_result",
          "data": {
            "text/plain": [
              "dict_keys(['AED', 'AFN', 'ALL', 'AMD', 'ANG', 'AOA', 'ARS', 'AUD', 'AWG', 'AZN', 'BAM', 'BBD', 'BDT', 'BGN', 'BHD', 'BIF', 'BMD', 'BND', 'BOB', 'BRL', 'BSD', 'BTC', 'BTN', 'BWP', 'BYN', 'BYR', 'BZD', 'CAD', 'CDF', 'CHF', 'CLF', 'CLP', 'CNY', 'COP', 'CRC', 'CUC', 'CUP', 'CVE', 'CZK', 'DJF', 'DKK', 'DOP', 'DZD', 'EGP', 'ERN', 'ETB', 'EUR', 'FJD', 'FKP', 'GBP', 'GEL', 'GGP', 'GHS', 'GIP', 'GMD', 'GNF', 'GTQ', 'GYD', 'HKD', 'HNL', 'HRK', 'HTG', 'HUF', 'IDR', 'ILS', 'IMP', 'INR', 'IQD', 'IRR', 'ISK', 'JEP', 'JMD', 'JOD', 'JPY', 'KES', 'KGS', 'KHR', 'KMF', 'KPW', 'KRW', 'KWD', 'KYD', 'KZT', 'LAK', 'LBP', 'LKR', 'LRD', 'LSL', 'LTL', 'LVL', 'LYD', 'MAD', 'MDL', 'MGA', 'MKD', 'MMK', 'MNT', 'MOP', 'MRO', 'MUR', 'MVR', 'MWK', 'MXN', 'MYR', 'MZN', 'NAD', 'NGN', 'NIO', 'NOK', 'NPR', 'NZD', 'OMR', 'PAB', 'PEN', 'PGK', 'PHP', 'PKR', 'PLN', 'PYG', 'QAR', 'RON', 'RSD', 'RUB', 'RWF', 'SAR', 'SBD', 'SCR', 'SDG', 'SEK', 'SGD', 'SHP', 'SLE', 'SLL', 'SOS', 'SRD', 'STD', 'SVC', 'SYP', 'SZL', 'THB', 'TJS', 'TMT', 'TND', 'TOP', 'TRY', 'TTD', 'TWD', 'TZS', 'UAH', 'UGX', 'USD', 'UYU', 'UZS', 'VEF', 'VES', 'VND', 'VUV', 'WST', 'XAF', 'XAG', 'XAU', 'XCD', 'XDR', 'XOF', 'XPF', 'YER', 'ZAR', 'ZMK', 'ZMW', 'ZWL'])"
            ]
          },
          "metadata": {},
          "execution_count": 67
        }
      ]
    },
    {
      "cell_type": "code",
      "source": [
        "dictionary.values()"
      ],
      "metadata": {
        "colab": {
          "base_uri": "https://localhost:8080/"
        },
        "id": "VMbmatXyvzdg",
        "outputId": "e6eed910-2a1f-469a-e83b-8f8de2150f2c"
      },
      "execution_count": 68,
      "outputs": [
        {
          "output_type": "execute_result",
          "data": {
            "text/plain": [
              "dict_values([3.910808, 95.077352, 115.695569, 418.793567, 1.919509, 540.374881, 205.69836, 1.556641, 1.916606, 1.797449, 1.9605, 2.150472, 112.686715, 1.955894, 0.40134, 2212.046812, 1.064781, 1.42758, 7.359826, 5.546659, 1.065112, 4.4738097e-05, 88.194423, 14.088426, 2.688403, 20869.710378, 2.146863, 1.436523, 2179.60668, 0.990037, 0.030634, 845.276562, 7.323587, 5250.616823, 595.644747, 1.064781, 28.2167, 110.52566, 23.726622, 189.637234, 7.445428, 59.665713, 145.915515, 32.529912, 15.971717, 57.250618, 1, 2.358379, 0.886052, 0.888719, 2.805708, 0.886052, 13.579826, 0.886052, 65.050473, 9170.326971, 8.334177, 224.729995, 8.353171, 26.253916, 7.511812, 159.62345, 385.96716, 16173.599631, 3.783104, 0.886052, 88.180436, 1554.491458, 44987.003066, 154.105586, 0.886052, 164.381215, 0.75536, 143.306234, 134.045462, 93.083179, 4347.694278, 490.8114, 958.202347, 1384.226396, 0.326463, 0.887493, 477.856961, 17953.710001, 15987.053439, 389.291146, 167.49027, 19.208419, 3.144022, 0.644075, 5.112926, 11.049358, 19.944104, 4582.096252, 61.73915, 2236.693143, 3749.985643, 8.605776, 380.126684, 49.033046, 16.354628, 1093.237252, 19.740063, 4.719117, 67.189131, 19.208751, 490.332985, 38.917782, 10.995228, 141.111117, 1.712322, 0.4099, 1.065012, 4.100771, 3.8012, 58.967534, 279.852923, 4.772756, 7766.816983, 3.876838, 4.914843, 117.344184, 79.173403, 1157.439664, 3.993837, 8.801197, 14.202882, 623.428553, 11.1842, 1.425092, 1.295572, 21.236334, 21029.427079, 606.390099, 35.118554, 22038.81985, 9.318978, 2675.253994, 19.414286, 36.802565, 11.199312, 3.737382, 3.321973, 2.492334, 20.090299, 7.227445, 32.391498, 2491.307843, 39.137319, 3908.818418, 1.064781, 41.921472, 12080.159416, 2588345.950733, 25.734165, 25363.086796, 125.741031, 2.873829, 657.513832, 0.049928, 0.000582, 2.877624, 0.796787, 657.507642, 118.882942, 266.513237, 19.26451, 9584.305452, 20.689193, 342.859093])"
            ]
          },
          "metadata": {},
          "execution_count": 68
        }
      ]
    },
    {
      "cell_type": "code",
      "source": [
        "df = pd.DataFrame.from_dict(dictionary, orient='index', columns=['Rate'])\n",
        "df.head()"
      ],
      "metadata": {
        "colab": {
          "base_uri": "https://localhost:8080/",
          "height": 206
        },
        "id": "_DZsyLVbw1ME",
        "outputId": "f82bb9e0-e5ed-455f-97b0-e9253f988368"
      },
      "execution_count": 93,
      "outputs": [
        {
          "output_type": "execute_result",
          "data": {
            "text/plain": [
              "           Rate\n",
              "AED    3.910808\n",
              "AFN   95.077352\n",
              "ALL  115.695569\n",
              "AMD  418.793567\n",
              "ANG    1.919509"
            ],
            "text/html": [
              "\n",
              "  <div id=\"df-b2a2d9a7-ed6b-4537-a145-58870284f555\">\n",
              "    <div class=\"colab-df-container\">\n",
              "      <div>\n",
              "<style scoped>\n",
              "    .dataframe tbody tr th:only-of-type {\n",
              "        vertical-align: middle;\n",
              "    }\n",
              "\n",
              "    .dataframe tbody tr th {\n",
              "        vertical-align: top;\n",
              "    }\n",
              "\n",
              "    .dataframe thead th {\n",
              "        text-align: right;\n",
              "    }\n",
              "</style>\n",
              "<table border=\"1\" class=\"dataframe\">\n",
              "  <thead>\n",
              "    <tr style=\"text-align: right;\">\n",
              "      <th></th>\n",
              "      <th>Rate</th>\n",
              "    </tr>\n",
              "  </thead>\n",
              "  <tbody>\n",
              "    <tr>\n",
              "      <th>AED</th>\n",
              "      <td>3.910808</td>\n",
              "    </tr>\n",
              "    <tr>\n",
              "      <th>AFN</th>\n",
              "      <td>95.077352</td>\n",
              "    </tr>\n",
              "    <tr>\n",
              "      <th>ALL</th>\n",
              "      <td>115.695569</td>\n",
              "    </tr>\n",
              "    <tr>\n",
              "      <th>AMD</th>\n",
              "      <td>418.793567</td>\n",
              "    </tr>\n",
              "    <tr>\n",
              "      <th>ANG</th>\n",
              "      <td>1.919509</td>\n",
              "    </tr>\n",
              "  </tbody>\n",
              "</table>\n",
              "</div>\n",
              "      <button class=\"colab-df-convert\" onclick=\"convertToInteractive('df-b2a2d9a7-ed6b-4537-a145-58870284f555')\"\n",
              "              title=\"Convert this dataframe to an interactive table.\"\n",
              "              style=\"display:none;\">\n",
              "        \n",
              "  <svg xmlns=\"http://www.w3.org/2000/svg\" height=\"24px\"viewBox=\"0 0 24 24\"\n",
              "       width=\"24px\">\n",
              "    <path d=\"M0 0h24v24H0V0z\" fill=\"none\"/>\n",
              "    <path d=\"M18.56 5.44l.94 2.06.94-2.06 2.06-.94-2.06-.94-.94-2.06-.94 2.06-2.06.94zm-11 1L8.5 8.5l.94-2.06 2.06-.94-2.06-.94L8.5 2.5l-.94 2.06-2.06.94zm10 10l.94 2.06.94-2.06 2.06-.94-2.06-.94-.94-2.06-.94 2.06-2.06.94z\"/><path d=\"M17.41 7.96l-1.37-1.37c-.4-.4-.92-.59-1.43-.59-.52 0-1.04.2-1.43.59L10.3 9.45l-7.72 7.72c-.78.78-.78 2.05 0 2.83L4 21.41c.39.39.9.59 1.41.59.51 0 1.02-.2 1.41-.59l7.78-7.78 2.81-2.81c.8-.78.8-2.07 0-2.86zM5.41 20L4 18.59l7.72-7.72 1.47 1.35L5.41 20z\"/>\n",
              "  </svg>\n",
              "      </button>\n",
              "      \n",
              "  <style>\n",
              "    .colab-df-container {\n",
              "      display:flex;\n",
              "      flex-wrap:wrap;\n",
              "      gap: 12px;\n",
              "    }\n",
              "\n",
              "    .colab-df-convert {\n",
              "      background-color: #E8F0FE;\n",
              "      border: none;\n",
              "      border-radius: 50%;\n",
              "      cursor: pointer;\n",
              "      display: none;\n",
              "      fill: #1967D2;\n",
              "      height: 32px;\n",
              "      padding: 0 0 0 0;\n",
              "      width: 32px;\n",
              "    }\n",
              "\n",
              "    .colab-df-convert:hover {\n",
              "      background-color: #E2EBFA;\n",
              "      box-shadow: 0px 1px 2px rgba(60, 64, 67, 0.3), 0px 1px 3px 1px rgba(60, 64, 67, 0.15);\n",
              "      fill: #174EA6;\n",
              "    }\n",
              "\n",
              "    [theme=dark] .colab-df-convert {\n",
              "      background-color: #3B4455;\n",
              "      fill: #D2E3FC;\n",
              "    }\n",
              "\n",
              "    [theme=dark] .colab-df-convert:hover {\n",
              "      background-color: #434B5C;\n",
              "      box-shadow: 0px 1px 3px 1px rgba(0, 0, 0, 0.15);\n",
              "      filter: drop-shadow(0px 1px 2px rgba(0, 0, 0, 0.3));\n",
              "      fill: #FFFFFF;\n",
              "    }\n",
              "  </style>\n",
              "\n",
              "      <script>\n",
              "        const buttonEl =\n",
              "          document.querySelector('#df-b2a2d9a7-ed6b-4537-a145-58870284f555 button.colab-df-convert');\n",
              "        buttonEl.style.display =\n",
              "          google.colab.kernel.accessAllowed ? 'block' : 'none';\n",
              "\n",
              "        async function convertToInteractive(key) {\n",
              "          const element = document.querySelector('#df-b2a2d9a7-ed6b-4537-a145-58870284f555');\n",
              "          const dataTable =\n",
              "            await google.colab.kernel.invokeFunction('convertToInteractive',\n",
              "                                                     [key], {});\n",
              "          if (!dataTable) return;\n",
              "\n",
              "          const docLinkHtml = 'Like what you see? Visit the ' +\n",
              "            '<a target=\"_blank\" href=https://colab.research.google.com/notebooks/data_table.ipynb>data table notebook</a>'\n",
              "            + ' to learn more about interactive tables.';\n",
              "          element.innerHTML = '';\n",
              "          dataTable['output_type'] = 'display_data';\n",
              "          await google.colab.output.renderOutput(dataTable, element);\n",
              "          const docLink = document.createElement('div');\n",
              "          docLink.innerHTML = docLinkHtml;\n",
              "          element.appendChild(docLink);\n",
              "        }\n",
              "      </script>\n",
              "    </div>\n",
              "  </div>\n",
              "  "
            ]
          },
          "metadata": {},
          "execution_count": 93
        }
      ]
    }
  ]
}